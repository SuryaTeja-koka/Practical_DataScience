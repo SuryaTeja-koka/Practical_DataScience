{
 "cells": [
  {
   "cell_type": "code",
   "execution_count": null,
   "metadata": {},
   "outputs": [],
   "source": [
    "'''\n",
    "\n",
    "A)\n",
    "\n",
    "Pre-Lab\n",
    "\n",
    "1. What is probability?\n",
    "2.  What is Marginal probability\n",
    "3. What is joint probability\n",
    "4. What is conditional probability\n",
    "\n",
    "In-Lab\n",
    "\n",
    "a.\tCalculate the joint probability p(Vijayawada=sunny, Hyderabad=sunny), it can be noted as p(sunny, sunny).\n",
    "b.\tCalculate the joint probability p(Vijayawada=cloudy, Hyderabad=sunny), it can be noted as p(cloudy, rainy).\n",
    "c.\tCalculate the joint probability p(Vijayawada=rainy, Hyderabad=sunny), it can be noted as p(rainy, rainy).\n",
    "d.\tCalculate the joint probability p( Vijayawada=rainy, Hyderabad=rainy), it can be noted as p(sunny, sunny).\n",
    "e.\tCalculate the joint probability p(Vijayawada=cloudy, Hyderabad=cloudy), it can be noted as p(cloudy, rainy).\n",
    "\n",
    "\n",
    "Post-Lab\n",
    "\n",
    "a.\tCalculate the joint probability p(Vijayawada=sunny, Hyderabad=cloudy), it can be noted as p(sunny, cloudy).\n",
    "b.\tCalculate the joint probability p( Vijayawada=cloudy, Hyderabad=rainy), it can be noted as p(cloudy, rainy).\n",
    "c.\tCalculate the joint probability p(Vijayawada=rainy, Hyderabad=cloudy), it can be noted as p( rainy, cloudy).\n",
    "\n",
    "\n",
    "B)\n",
    "\n",
    "Compare joint probability with conditional probability by correlation and covariance.\n",
    "\n",
    "'''"
   ]
  },
  {
   "cell_type": "code",
   "execution_count": null,
   "metadata": {},
   "outputs": [],
   "source": [
    "'''\n",
    "\n",
    "Pre-Lab\n",
    "\n",
    "1. What is probability?\n",
    "A) Probability is the branch of mathematics concerning numerical descriptions of how likely an event is to occur, \n",
    "or how likely it is that a proposition is true. \n",
    "The probability of an event is a number between 0 and 1, where, roughly speaking, 0 indicates impossibility of the event and 1 indicates certainty\n",
    "\n",
    "\n",
    "2.  What is Marginal probability\n",
    "A) Marginal probability is the probability of an event irrespective of the outcome of another variable.\n",
    "Conditional probability is the probability of one event occurring in the presence of a second event.\n",
    "\n",
    "3. What is joint probability\n",
    "A) Joint probability is a statistical measure that calculates the likelihood of two events occurring together and at the same point in time. \n",
    "Joint probability is the probability of event Y occurring at the same time that event X occurs\n",
    "\n",
    "4. What is conditional probability\n",
    "A) Conditional probability is the probability of one event occurring with some relationship to one or more other events. \n",
    "For example: Event A is that it is raining outside, and it has a 0.3 (30%) chance of raining today. \n",
    "Event B is that you will need to go outside, and that has a probability of 0.5 (50%)\n",
    "\n",
    "'''"
   ]
  }
 ],
 "metadata": {
  "kernelspec": {
   "display_name": "Python 2",
   "language": "python",
   "name": "python2"
  },
  "language_info": {
   "codemirror_mode": {
    "name": "ipython",
    "version": 2
   },
   "file_extension": ".py",
   "mimetype": "text/x-python",
   "name": "python",
   "nbconvert_exporter": "python",
   "pygments_lexer": "ipython2",
   "version": "2.7.16"
  }
 },
 "nbformat": 4,
 "nbformat_minor": 2
}
