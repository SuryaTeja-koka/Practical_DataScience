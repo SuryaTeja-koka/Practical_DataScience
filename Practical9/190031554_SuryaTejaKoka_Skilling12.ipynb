{
 "cells": [
  {
   "cell_type": "markdown",
   "metadata": {
    "id": "5ea0XSwKSW1P"
   },
   "source": [
    "**PRE LAB**"
   ]
  },
  {
   "cell_type": "code",
   "execution_count": null,
   "metadata": {
    "id": "4JNqIksvSemV"
   },
   "outputs": [],
   "source": [
    "'''\n",
    "190031554\n",
    "1. What is probability?\n",
    "\t    Probability is how likely something will happen or occur.\n",
    "Probability of an event is defined as\n",
    " P(A)=Number of favourable outcomes to A/Total number of possible outcomes.\n",
    "\n",
    "2.  What is Marginal probability\n",
    "\t\tMarginal probability is the probability of an event irrespective of the outcome of another variable. \n",
    "\n",
    "3. What is joint probability\n",
    "Joint probability is the probability of two events occurring simultaneously.\n",
    "\n",
    "4. What is conditional probability\n",
    "Conditional probability is the probability of one event occurring with some relationship to one or more other events.\n",
    "'''\n",
    "\n"
   ]
  },
  {
   "cell_type": "markdown",
   "metadata": {
    "id": "zMBMaLggSO9U"
   },
   "source": [
    "**IN LAB**"
   ]
  },
  {
   "cell_type": "code",
   "execution_count": null,
   "metadata": {
    "colab": {
     "base_uri": "https://localhost:8080/",
     "height": 266
    },
    "id": "VbCxMeeSJTYo",
    "outputId": "ef1eda76-1789-48fa-aa89-9aff50477c47"
   },
   "outputs": [
    {
     "data": {
      "text/html": [
       "<div>\n",
       "<style scoped>\n",
       "    .dataframe tbody tr th:only-of-type {\n",
       "        vertical-align: middle;\n",
       "    }\n",
       "\n",
       "    .dataframe tbody tr th {\n",
       "        vertical-align: top;\n",
       "    }\n",
       "\n",
       "    .dataframe thead th {\n",
       "        text-align: right;\n",
       "    }\n",
       "</style>\n",
       "<table border=\"1\" class=\"dataframe\">\n",
       "  <thead>\n",
       "    <tr style=\"text-align: right;\">\n",
       "      <th></th>\n",
       "      <th>Day</th>\n",
       "      <th>Vijayawada</th>\n",
       "      <th>Hyderabad</th>\n",
       "    </tr>\n",
       "  </thead>\n",
       "  <tbody>\n",
       "    <tr>\n",
       "      <th>0</th>\n",
       "      <td>1</td>\n",
       "      <td>sunny</td>\n",
       "      <td>sunny</td>\n",
       "    </tr>\n",
       "    <tr>\n",
       "      <th>1</th>\n",
       "      <td>2</td>\n",
       "      <td>cloudy</td>\n",
       "      <td>cloudy</td>\n",
       "    </tr>\n",
       "    <tr>\n",
       "      <th>2</th>\n",
       "      <td>3</td>\n",
       "      <td>sunny</td>\n",
       "      <td>cloudy</td>\n",
       "    </tr>\n",
       "    <tr>\n",
       "      <th>3</th>\n",
       "      <td>4</td>\n",
       "      <td>cloudy</td>\n",
       "      <td>cloudy</td>\n",
       "    </tr>\n",
       "    <tr>\n",
       "      <th>4</th>\n",
       "      <td>5</td>\n",
       "      <td>sunny</td>\n",
       "      <td>sunny</td>\n",
       "    </tr>\n",
       "    <tr>\n",
       "      <th>5</th>\n",
       "      <td>6</td>\n",
       "      <td>cloudy</td>\n",
       "      <td>cloudy</td>\n",
       "    </tr>\n",
       "    <tr>\n",
       "      <th>6</th>\n",
       "      <td>7</td>\n",
       "      <td>rainy</td>\n",
       "      <td>rainy</td>\n",
       "    </tr>\n",
       "  </tbody>\n",
       "</table>\n",
       "</div>"
      ],
      "text/plain": [
       "   Day Vijayawada Hyderabad\n",
       "0    1      sunny     sunny\n",
       "1    2     cloudy    cloudy\n",
       "2    3      sunny    cloudy\n",
       "3    4     cloudy    cloudy\n",
       "4    5      sunny     sunny\n",
       "5    6     cloudy    cloudy\n",
       "6    7      rainy     rainy"
      ]
     },
     "execution_count": 2,
     "metadata": {
      "tags": []
     },
     "output_type": "execute_result"
    }
   ],
   "source": [
    "\n",
    "List1 = [[1,'sunny','sunny'],[2,'cloudy','cloudy'],[3,'sunny','cloudy'],[4,'cloudy','cloudy'],[5,'sunny','sunny'],[6,'cloudy','cloudy'],\n",
    "       [7,'rainy','rainy'],[8,'sunny','sunny'],[9,'rainy','rainy'],[10,'sunny','cloudy'],[11,'cloudy','cloudy'],[12,'rainy','rainy'],\n",
    "       [13,'sunny','sunny'],[14,'rainy','cloudy'],[15,'cloudy','rainy'],[16,'sunny','sunny'],[17,'cloudy','sunny'],[18,'cloudy','cloudy'],\n",
    "       [19,'cloudy','rainy'],[20,'sunny','sunny']]\n",
    "df = pd.DataFrame(List1,columns = ['Day','Vijayawada','Hyderabad'])\n",
    "df.head(7)"
   ]
  },
  {
   "cell_type": "code",
   "execution_count": null,
   "metadata": {
    "id": "uHg-3l4vI_Ya"
   },
   "outputs": [],
   "source": [
    "#190031554 Importing \n",
    "import pandas as pd\n",
    "import numpy as np\n",
    "import math"
   ]
  },
  {
   "cell_type": "code",
   "execution_count": null,
   "metadata": {
    "colab": {
     "base_uri": "https://localhost:8080/"
    },
    "id": "Atrxvsf2P_6_",
    "outputId": "6941a6c0-df54-4e62-ea68-12f838e94527"
   },
   "outputs": [
    {
     "name": "stdout",
     "output_type": "stream",
     "text": [
      "Joint Probability is 0.3\n"
     ]
    }
   ],
   "source": [
    "# a.\tCalculate the joint probability p(Vijayawada=sunny, Hyderabad=sunny), it can be noted as p(sunny, sunny).\n",
    "c=0\n",
    "t=df['Day'].count()\n",
    "for ind in df.index:\n",
    "  if((df['Vijayawada'][ind]=='sunny')&(df['Hyderabad'][ind]=='sunny')):\n",
    "      c=c+1\n",
    "Probability=c/t\n",
    "print(\"Joint Probability is\",Probability)"
   ]
  },
  {
   "cell_type": "code",
   "execution_count": null,
   "metadata": {
    "colab": {
     "base_uri": "https://localhost:8080/"
    },
    "id": "XTh862pzR4oX",
    "outputId": "18f59a2a-7fd3-4c99-a864-b3a44805efe9"
   },
   "outputs": [
    {
     "name": "stdout",
     "output_type": "stream",
     "text": [
      "Joint Probability is 0.05\n"
     ]
    }
   ],
   "source": [
    "#b.\tCalculate the joint probability p(Vijayawada=cloudy, Hyderabad=sunny), it can be noted as p(cloudy, rainy).\n",
    "c=0\n",
    "t=df['Day'].count()\n",
    "for ind in df.index:\n",
    "  if((df['Vijayawada'][ind]=='cloudy')&(df['Hyderabad'][ind]=='sunny')):\n",
    "      c=c+1\n",
    "Probability=c/t\n",
    "print(\"Joint Probability is\",Probability)"
   ]
  },
  {
   "cell_type": "code",
   "execution_count": null,
   "metadata": {
    "colab": {
     "base_uri": "https://localhost:8080/"
    },
    "id": "DQRYNWpMR9Za",
    "outputId": "059bc9fa-93bf-412b-f93d-2c7ce55808d9"
   },
   "outputs": [
    {
     "name": "stdout",
     "output_type": "stream",
     "text": [
      "Joint Probability is 0.0\n"
     ]
    }
   ],
   "source": [
    "# c.\tCalculate the joint probability p(Vijayawada=rainy, Hyderabad=sunny), it can be noted as p(rainy, rainy).\n",
    "c=0\n",
    "t=df['Day'].count()\n",
    "for ind in df.index:\n",
    "  if((df['Vijayawada'][ind]=='rainy')&(df['Hyderabad'][ind]=='sunny')):\n",
    "      c=c+1\n",
    "Probability=c/t\n",
    "print(\"Joint Probability is\",Probability)"
   ]
  },
  {
   "cell_type": "code",
   "execution_count": null,
   "metadata": {
    "colab": {
     "base_uri": "https://localhost:8080/"
    },
    "id": "abxmMnO7SCe0",
    "outputId": "11b91a3f-5aba-4669-eb89-e1b1cb91bb11"
   },
   "outputs": [
    {
     "name": "stdout",
     "output_type": "stream",
     "text": [
      "Joint Probability is 0.15\n"
     ]
    }
   ],
   "source": [
    "#d.\tCalculate the joint probability p( Vijayawada=rainy, Hyderabad=rainy), it can be noted as p(sunny, sunny).\n",
    "c=0\n",
    "t=df['Day'].count()\n",
    "for ind in df.index:\n",
    "  if((df['Vijayawada'][ind]=='rainy')&(df['Hyderabad'][ind]=='rainy')):\n",
    "      c=c+1\n",
    "Probability=c/t\n",
    "print(\"Joint Probability is\",Probability)"
   ]
  },
  {
   "cell_type": "code",
   "execution_count": null,
   "metadata": {
    "colab": {
     "base_uri": "https://localhost:8080/"
    },
    "id": "NUMT-qNLSIws",
    "outputId": "37fd5794-5b35-4d77-a70f-307c642b28fc"
   },
   "outputs": [
    {
     "name": "stdout",
     "output_type": "stream",
     "text": [
      "Joint Probability is 0.25\n"
     ]
    }
   ],
   "source": [
    "#e.\tCalculate the joint probability p(Vijayawada=cloudy, Hyderabad=cloudy), it can be noted as p(cloudy, rainy).\n",
    "c=0\n",
    "t=df['Day'].count()\n",
    "for ind in df.index:\n",
    "  if((df['Vijayawada'][ind]=='cloudy')&(df['Hyderabad'][ind]=='cloudy')):\n",
    "      c=c+1\n",
    "Probability=c/t\n",
    "print(\"Joint Probability is\",Probability)"
   ]
  },
  {
   "cell_type": "markdown",
   "metadata": {
    "id": "C9hrkVWeSTDa"
   },
   "source": [
    "**POST LAB**"
   ]
  },
  {
   "cell_type": "code",
   "execution_count": null,
   "metadata": {
    "colab": {
     "base_uri": "https://localhost:8080/"
    },
    "id": "KXa9OrRlSqde",
    "outputId": "de554f4f-b35c-4867-d818-626c85614f40"
   },
   "outputs": [
    {
     "name": "stdout",
     "output_type": "stream",
     "text": [
      "Joint Probability is 0.1\n"
     ]
    }
   ],
   "source": [
    "#a.\tCalculate the joint probability p(Vijayawada=sunny, Hyderabad=cloudy), it can be noted as p(sunny, cloudy).\n",
    "c=0\n",
    "t=df['Day'].count()\n",
    "for ind in df.index:\n",
    "  if((df['Vijayawada'][ind]=='sunny')&(df['Hyderabad'][ind]=='cloudy')):\n",
    "      c=c+1\n",
    "Probability=c/t\n",
    "print(\"Joint Probability is\",Probability)"
   ]
  },
  {
   "cell_type": "code",
   "execution_count": null,
   "metadata": {
    "colab": {
     "base_uri": "https://localhost:8080/"
    },
    "id": "V1r_0IOLROBF",
    "outputId": "c4782164-23b9-45a2-a468-d62096b9eb46"
   },
   "outputs": [
    {
     "name": "stdout",
     "output_type": "stream",
     "text": [
      "Joint Probability is 0.1\n"
     ]
    }
   ],
   "source": [
    "# b.\tCalculate the joint probability p( Vijayawada=cloudy, Hyderabad=rainy), it can be noted as p(cloudy, rainy).\n",
    "c=0\n",
    "t=df['Day'].count()\n",
    "for ind in df.index:\n",
    "  if((df['Vijayawada'][ind]=='cloudy')&(df['Hyderabad'][ind]=='rainy')):\n",
    "      c=c+1\n",
    "Probability=c/t\n",
    "print(\"Joint Probability is\",Probability)"
   ]
  },
  {
   "cell_type": "code",
   "execution_count": null,
   "metadata": {
    "colab": {
     "base_uri": "https://localhost:8080/"
    },
    "id": "Vuv36ey5RWha",
    "outputId": "407c8db8-3922-4d70-9746-ec8a2a9c5558"
   },
   "outputs": [
    {
     "name": "stdout",
     "output_type": "stream",
     "text": [
      "Joint Probability is 0.05\n"
     ]
    }
   ],
   "source": [
    "#c.\tCalculate the joint probability p(Vijayawada=rainy, Hyderabad=cloudy), it can be noted as       p( rainy, cloudy).\n",
    "c=0\n",
    "t=df['Day'].count()\n",
    "for ind in df.index:\n",
    "  if((df['Vijayawada'][ind]=='rainy')&(df['Hyderabad'][ind]=='cloudy')):\n",
    "      c=c+1\n",
    "Probability=c/t\n",
    "print(\"Joint Probability is\",Probability)"
   ]
  }
 ],
 "metadata": {
  "colab": {
   "collapsed_sections": [],
   "name": "190030421_Ds_Lab9.ipynb",
   "provenance": [],
   "toc_visible": true
  },
  "kernelspec": {
   "display_name": "Python 2",
   "language": "python",
   "name": "python2"
  },
  "language_info": {
   "codemirror_mode": {
    "name": "ipython",
    "version": 2
   },
   "file_extension": ".py",
   "mimetype": "text/x-python",
   "name": "python",
   "nbconvert_exporter": "python",
   "pygments_lexer": "ipython2",
   "version": "2.7.16"
  }
 },
 "nbformat": 4,
 "nbformat_minor": 1
}
