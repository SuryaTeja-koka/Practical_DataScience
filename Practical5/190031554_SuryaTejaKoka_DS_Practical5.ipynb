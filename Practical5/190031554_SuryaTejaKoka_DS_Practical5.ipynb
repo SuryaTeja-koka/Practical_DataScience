{
 "cells": [
  {
   "cell_type": "code",
   "execution_count": 6,
   "metadata": {
    "id": "e6NV-9E-qTO7"
   },
   "outputs": [],
   "source": [
    "#190031554 Importing libraries\n",
    "import numpy as np\n",
    "import pandas as pd"
   ]
  },
  {
   "cell_type": "code",
   "execution_count": 16,
   "metadata": {
    "colab": {
     "base_uri": "https://localhost:8080/",
     "height": 266
    },
    "id": "_2PbU7R3qTO9",
    "outputId": "56b86145-7889-43a8-b5f7-2ecab6f5673f"
   },
   "outputs": [
    {
     "data": {
      "text/html": [
       "<div>\n",
       "<style scoped>\n",
       "    .dataframe tbody tr th:only-of-type {\n",
       "        vertical-align: middle;\n",
       "    }\n",
       "\n",
       "    .dataframe tbody tr th {\n",
       "        vertical-align: top;\n",
       "    }\n",
       "\n",
       "    .dataframe thead th {\n",
       "        text-align: right;\n",
       "    }\n",
       "</style>\n",
       "<table border=\"1\" class=\"dataframe\">\n",
       "  <thead>\n",
       "    <tr style=\"text-align: right;\">\n",
       "      <th></th>\n",
       "      <th>SUBDIVISION</th>\n",
       "      <th>YEAR</th>\n",
       "      <th>JAN</th>\n",
       "      <th>FEB</th>\n",
       "      <th>MAR</th>\n",
       "      <th>APR</th>\n",
       "      <th>MAY</th>\n",
       "      <th>JUN</th>\n",
       "      <th>JUL</th>\n",
       "      <th>AUG</th>\n",
       "      <th>SEP</th>\n",
       "      <th>OCT</th>\n",
       "      <th>NOV</th>\n",
       "      <th>DEC</th>\n",
       "      <th>ANNUAL RAINFALL</th>\n",
       "      <th>FLOODS</th>\n",
       "    </tr>\n",
       "  </thead>\n",
       "  <tbody>\n",
       "    <tr>\n",
       "      <th>0</th>\n",
       "      <td>KERALA</td>\n",
       "      <td>1901</td>\n",
       "      <td>28.7</td>\n",
       "      <td>44.7</td>\n",
       "      <td>51.6</td>\n",
       "      <td>160.0</td>\n",
       "      <td>174.7</td>\n",
       "      <td>824.6</td>\n",
       "      <td>743.0</td>\n",
       "      <td>357.5</td>\n",
       "      <td>197.7</td>\n",
       "      <td>266.9</td>\n",
       "      <td>350.8</td>\n",
       "      <td>48.4</td>\n",
       "      <td>3248.6</td>\n",
       "      <td>YES</td>\n",
       "    </tr>\n",
       "    <tr>\n",
       "      <th>1</th>\n",
       "      <td>KERALA</td>\n",
       "      <td>1902</td>\n",
       "      <td>6.7</td>\n",
       "      <td>2.6</td>\n",
       "      <td>57.3</td>\n",
       "      <td>83.9</td>\n",
       "      <td>134.5</td>\n",
       "      <td>390.9</td>\n",
       "      <td>1205.0</td>\n",
       "      <td>315.8</td>\n",
       "      <td>491.6</td>\n",
       "      <td>358.4</td>\n",
       "      <td>158.3</td>\n",
       "      <td>121.5</td>\n",
       "      <td>3326.6</td>\n",
       "      <td>YES</td>\n",
       "    </tr>\n",
       "    <tr>\n",
       "      <th>2</th>\n",
       "      <td>KERALA</td>\n",
       "      <td>1903</td>\n",
       "      <td>3.2</td>\n",
       "      <td>18.6</td>\n",
       "      <td>3.1</td>\n",
       "      <td>83.6</td>\n",
       "      <td>249.7</td>\n",
       "      <td>558.6</td>\n",
       "      <td>1022.5</td>\n",
       "      <td>420.2</td>\n",
       "      <td>341.8</td>\n",
       "      <td>354.1</td>\n",
       "      <td>157.0</td>\n",
       "      <td>59.0</td>\n",
       "      <td>3271.2</td>\n",
       "      <td>YES</td>\n",
       "    </tr>\n",
       "    <tr>\n",
       "      <th>3</th>\n",
       "      <td>KERALA</td>\n",
       "      <td>1904</td>\n",
       "      <td>23.7</td>\n",
       "      <td>3.0</td>\n",
       "      <td>32.2</td>\n",
       "      <td>71.5</td>\n",
       "      <td>235.7</td>\n",
       "      <td>1098.2</td>\n",
       "      <td>725.5</td>\n",
       "      <td>351.8</td>\n",
       "      <td>222.7</td>\n",
       "      <td>328.1</td>\n",
       "      <td>33.9</td>\n",
       "      <td>3.3</td>\n",
       "      <td>3129.7</td>\n",
       "      <td>YES</td>\n",
       "    </tr>\n",
       "    <tr>\n",
       "      <th>4</th>\n",
       "      <td>KERALA</td>\n",
       "      <td>1905</td>\n",
       "      <td>1.2</td>\n",
       "      <td>22.3</td>\n",
       "      <td>9.4</td>\n",
       "      <td>105.9</td>\n",
       "      <td>263.3</td>\n",
       "      <td>850.2</td>\n",
       "      <td>520.5</td>\n",
       "      <td>293.6</td>\n",
       "      <td>217.2</td>\n",
       "      <td>383.5</td>\n",
       "      <td>74.4</td>\n",
       "      <td>0.2</td>\n",
       "      <td>2741.6</td>\n",
       "      <td>NO</td>\n",
       "    </tr>\n",
       "    <tr>\n",
       "      <th>5</th>\n",
       "      <td>KERALA</td>\n",
       "      <td>1906</td>\n",
       "      <td>26.7</td>\n",
       "      <td>7.4</td>\n",
       "      <td>9.9</td>\n",
       "      <td>59.4</td>\n",
       "      <td>160.8</td>\n",
       "      <td>414.9</td>\n",
       "      <td>954.2</td>\n",
       "      <td>442.8</td>\n",
       "      <td>131.2</td>\n",
       "      <td>251.7</td>\n",
       "      <td>163.1</td>\n",
       "      <td>86.0</td>\n",
       "      <td>2708.0</td>\n",
       "      <td>NO</td>\n",
       "    </tr>\n",
       "    <tr>\n",
       "      <th>6</th>\n",
       "      <td>KERALA</td>\n",
       "      <td>1907</td>\n",
       "      <td>18.8</td>\n",
       "      <td>4.8</td>\n",
       "      <td>55.7</td>\n",
       "      <td>170.8</td>\n",
       "      <td>101.4</td>\n",
       "      <td>770.9</td>\n",
       "      <td>760.4</td>\n",
       "      <td>981.5</td>\n",
       "      <td>225.0</td>\n",
       "      <td>309.7</td>\n",
       "      <td>219.1</td>\n",
       "      <td>52.8</td>\n",
       "      <td>3671.1</td>\n",
       "      <td>YES</td>\n",
       "    </tr>\n",
       "  </tbody>\n",
       "</table>\n",
       "</div>"
      ],
      "text/plain": [
       "  SUBDIVISION  YEAR   JAN   FEB  ...    NOV    DEC   ANNUAL RAINFALL  FLOODS\n",
       "0      KERALA  1901  28.7  44.7  ...  350.8   48.4            3248.6     YES\n",
       "1      KERALA  1902   6.7   2.6  ...  158.3  121.5            3326.6     YES\n",
       "2      KERALA  1903   3.2  18.6  ...  157.0   59.0            3271.2     YES\n",
       "3      KERALA  1904  23.7   3.0  ...   33.9    3.3            3129.7     YES\n",
       "4      KERALA  1905   1.2  22.3  ...   74.4    0.2            2741.6      NO\n",
       "5      KERALA  1906  26.7   7.4  ...  163.1   86.0            2708.0      NO\n",
       "6      KERALA  1907  18.8   4.8  ...  219.1   52.8            3671.1     YES\n",
       "\n",
       "[7 rows x 16 columns]"
      ]
     },
     "execution_count": 16,
     "metadata": {
      "tags": []
     },
     "output_type": "execute_result"
    }
   ],
   "source": [
    "#190031554 Importing files\n",
    "df = pd.read_csv(\"kerala.csv\")\n",
    "df.head(7)"
   ]
  },
  {
   "cell_type": "code",
   "execution_count": 17,
   "metadata": {
    "id": "2fBeQGun8esg"
   },
   "outputs": [],
   "source": [
    "# 190031554 Changing the target column to numeric values\n",
    "df[\"FLOODS\"] = df[\"FLOODS\"].map({\"YES\": 1, \"NO\": 0})"
   ]
  },
  {
   "cell_type": "code",
   "execution_count": 19,
   "metadata": {
    "colab": {
     "base_uri": "https://localhost:8080/",
     "height": 328
    },
    "id": "jYLCMzEa8jvD",
    "outputId": "765ecacc-66e3-4d63-886d-f302250dbae1"
   },
   "outputs": [
    {
     "data": {
      "text/html": [
       "<div>\n",
       "<style scoped>\n",
       "    .dataframe tbody tr th:only-of-type {\n",
       "        vertical-align: middle;\n",
       "    }\n",
       "\n",
       "    .dataframe tbody tr th {\n",
       "        vertical-align: top;\n",
       "    }\n",
       "\n",
       "    .dataframe thead th {\n",
       "        text-align: right;\n",
       "    }\n",
       "</style>\n",
       "<table border=\"1\" class=\"dataframe\">\n",
       "  <thead>\n",
       "    <tr style=\"text-align: right;\">\n",
       "      <th></th>\n",
       "      <th>YEAR</th>\n",
       "      <th>JUN_GT_500</th>\n",
       "      <th>JUL_GT_500</th>\n",
       "      <th>FLOODS</th>\n",
       "      <th>COUNT</th>\n",
       "    </tr>\n",
       "  </thead>\n",
       "  <tbody>\n",
       "    <tr>\n",
       "      <th>0</th>\n",
       "      <td>1901</td>\n",
       "      <td>1</td>\n",
       "      <td>1</td>\n",
       "      <td>1</td>\n",
       "      <td>1</td>\n",
       "    </tr>\n",
       "    <tr>\n",
       "      <th>1</th>\n",
       "      <td>1902</td>\n",
       "      <td>0</td>\n",
       "      <td>1</td>\n",
       "      <td>1</td>\n",
       "      <td>1</td>\n",
       "    </tr>\n",
       "    <tr>\n",
       "      <th>2</th>\n",
       "      <td>1903</td>\n",
       "      <td>1</td>\n",
       "      <td>1</td>\n",
       "      <td>1</td>\n",
       "      <td>1</td>\n",
       "    </tr>\n",
       "    <tr>\n",
       "      <th>3</th>\n",
       "      <td>1904</td>\n",
       "      <td>1</td>\n",
       "      <td>1</td>\n",
       "      <td>1</td>\n",
       "      <td>1</td>\n",
       "    </tr>\n",
       "    <tr>\n",
       "      <th>4</th>\n",
       "      <td>1905</td>\n",
       "      <td>1</td>\n",
       "      <td>1</td>\n",
       "      <td>0</td>\n",
       "      <td>1</td>\n",
       "    </tr>\n",
       "    <tr>\n",
       "      <th>5</th>\n",
       "      <td>1906</td>\n",
       "      <td>0</td>\n",
       "      <td>1</td>\n",
       "      <td>0</td>\n",
       "      <td>1</td>\n",
       "    </tr>\n",
       "    <tr>\n",
       "      <th>6</th>\n",
       "      <td>1907</td>\n",
       "      <td>1</td>\n",
       "      <td>1</td>\n",
       "      <td>1</td>\n",
       "      <td>1</td>\n",
       "    </tr>\n",
       "    <tr>\n",
       "      <th>7</th>\n",
       "      <td>1908</td>\n",
       "      <td>1</td>\n",
       "      <td>1</td>\n",
       "      <td>0</td>\n",
       "      <td>1</td>\n",
       "    </tr>\n",
       "    <tr>\n",
       "      <th>8</th>\n",
       "      <td>1909</td>\n",
       "      <td>1</td>\n",
       "      <td>1</td>\n",
       "      <td>1</td>\n",
       "      <td>1</td>\n",
       "    </tr>\n",
       "  </tbody>\n",
       "</table>\n",
       "</div>"
      ],
      "text/plain": [
       "   YEAR  JUN_GT_500  JUL_GT_500  FLOODS  COUNT\n",
       "0  1901           1           1       1      1\n",
       "1  1902           0           1       1      1\n",
       "2  1903           1           1       1      1\n",
       "3  1904           1           1       1      1\n",
       "4  1905           1           1       0      1\n",
       "5  1906           0           1       0      1\n",
       "6  1907           1           1       1      1\n",
       "7  1908           1           1       0      1\n",
       "8  1909           1           1       1      1"
      ]
     },
     "execution_count": 19,
     "metadata": {
      "tags": []
     },
     "output_type": "execute_result"
    }
   ],
   "source": [
    "#190031554 truth table \n",
    "df[\"JUN_GT_500\"] = (df[\"JUN\"] > 500).astype(\"int\")\n",
    "df[\"JUL_GT_500\"] = (df[\"JUL\"] > 500).astype(\"int\")\n",
    "df_small = df.loc[:, [\"YEAR\", \"JUN_GT_500\", \"JUL_GT_500\", \"FLOODS\"]]\n",
    "df_small[\"COUNT\"] = 1\n",
    "df_small.head(9)"
   ]
  },
  {
   "cell_type": "code",
   "execution_count": 20,
   "metadata": {
    "colab": {
     "base_uri": "https://localhost:8080/",
     "height": 0
    },
    "id": "y-DbW3Pt8ukS",
    "outputId": "f6b4df4c-fca1-4a70-9b1d-0e00a9cd6b28"
   },
   "outputs": [
    {
     "data": {
      "text/plain": [
       "(118, 5)"
      ]
     },
     "execution_count": 20,
     "metadata": {
      "tags": []
     },
     "output_type": "execute_result"
    }
   ],
   "source": [
    "df_small.shape"
   ]
  },
  {
   "cell_type": "code",
   "execution_count": 21,
   "metadata": {
    "colab": {
     "base_uri": "https://localhost:8080/",
     "height": 142
    },
    "id": "X43lp6ga8y7c",
    "outputId": "4af7017a-5bb5-40fb-e59d-7f0e901d8e6f"
   },
   "outputs": [
    {
     "data": {
      "text/html": [
       "<div>\n",
       "<style scoped>\n",
       "    .dataframe tbody tr th:only-of-type {\n",
       "        vertical-align: middle;\n",
       "    }\n",
       "\n",
       "    .dataframe tbody tr th {\n",
       "        vertical-align: top;\n",
       "    }\n",
       "\n",
       "    .dataframe thead th {\n",
       "        text-align: right;\n",
       "    }\n",
       "</style>\n",
       "<table border=\"1\" class=\"dataframe\">\n",
       "  <thead>\n",
       "    <tr style=\"text-align: right;\">\n",
       "      <th>JUN_GT_500</th>\n",
       "      <th>0</th>\n",
       "      <th>1</th>\n",
       "    </tr>\n",
       "    <tr>\n",
       "      <th>FLOODS</th>\n",
       "      <th></th>\n",
       "      <th></th>\n",
       "    </tr>\n",
       "  </thead>\n",
       "  <tbody>\n",
       "    <tr>\n",
       "      <th>0</th>\n",
       "      <td>19</td>\n",
       "      <td>39</td>\n",
       "    </tr>\n",
       "    <tr>\n",
       "      <th>1</th>\n",
       "      <td>6</td>\n",
       "      <td>54</td>\n",
       "    </tr>\n",
       "  </tbody>\n",
       "</table>\n",
       "</div>"
      ],
      "text/plain": [
       "JUN_GT_500   0   1\n",
       "FLOODS            \n",
       "0           19  39\n",
       "1            6  54"
      ]
     },
     "execution_count": 21,
     "metadata": {
      "tags": []
     },
     "output_type": "execute_result"
    }
   ],
   "source": [
    "#190031554 Creating the tabular data based on the counts\n",
    "pd.crosstab(df_small[\"FLOODS\"], df_small[\"JUN_GT_500\"])"
   ]
  },
  {
   "cell_type": "code",
   "execution_count": 14,
   "metadata": {
    "colab": {
     "base_uri": "https://localhost:8080/",
     "height": 0
    },
    "id": "d-0euUAMqTO_",
    "outputId": "d3e3b772-3f54-46dc-b17a-8391ceec9e9b"
   },
   "outputs": [
    {
     "name": "stdout",
     "output_type": "stream",
     "text": [
      "P(F): 0.5084745762711864\n",
      "P(J): 0.788135593220339\n",
      "P(F AND J): 0.4576271186440678\n"
     ]
    }
   ],
   "source": [
    "#190031554\n",
    "#P(F) - probability of flooding\n",
    "#P(J) - probability of having more than 500 mm rain in june\n",
    "#p(F AND J)-probability of flooding AND probability of having\n",
    "#more than 500 mm rain in june\n",
    "P_F = (6 + 54) / (6 + 54 + 19 + 39)\n",
    "P_J = (39 + 54) / (6 + 54 + 19 + 39)\n",
    "P_F_intersect_J = 54 / (6 + 54 + 19 + 39)\n",
    "print(f\"P(F): {P_F}\") \n",
    "print(f\"P(J): {P_J}\")\n",
    "print(f\"P(F AND J): {P_F_intersect_J}\")"
   ]
  },
  {
   "cell_type": "code",
   "execution_count": 3,
   "metadata": {
    "colab": {
     "base_uri": "https://localhost:8080/",
     "height": 0
    },
    "id": "Q318HbKvqTPA",
    "outputId": "ab1a766c-2744-473d-9fe7-d3169d275fa9"
   },
   "outputs": [
    {
     "name": "stdout",
     "output_type": "stream",
     "text": [
      "P(F|J): 0.5806451612903226\n"
     ]
    }
   ],
   "source": [
    "# 190031554 Now calculate probailitity of flood given \n",
    "#it rained more than 500 mm in June (P(A|B))\n",
    "P_F_J = P_F_intersect_J / P_J\n",
    "print(f\"P(F|J): {P_F_J}\")"
   ]
  },
  {
   "cell_type": "code",
   "execution_count": 4,
   "metadata": {
    "colab": {
     "base_uri": "https://localhost:8080/",
     "height": 0
    },
    "id": "GXlXorGlqTPA",
    "outputId": "832bc351-7833-4e98-aaa4-49667326b13e"
   },
   "outputs": [
    {
     "name": "stdout",
     "output_type": "stream",
     "text": [
      "P(J|F): 0.9000000000000001\n"
     ]
    }
   ],
   "source": [
    "# 190031554 Probability of rain more than 500 mm \n",
    "#in June given it flooded that year (P(B|A))\n",
    "P_J_F = (P_F_J * P_J) / P_F\n",
    "print(f\"P(J|F): {P_J_F}\")"
   ]
  },
  {
   "cell_type": "code",
   "execution_count": 22,
   "metadata": {
    "colab": {
     "base_uri": "https://localhost:8080/",
     "height": 142
    },
    "id": "lRFizgZr8734",
    "outputId": "d6bbabde-6430-4ead-f0de-938d4d1a0ac8"
   },
   "outputs": [
    {
     "data": {
      "text/html": [
       "<div>\n",
       "<style scoped>\n",
       "    .dataframe tbody tr th:only-of-type {\n",
       "        vertical-align: middle;\n",
       "    }\n",
       "\n",
       "    .dataframe tbody tr th {\n",
       "        vertical-align: top;\n",
       "    }\n",
       "\n",
       "    .dataframe thead th {\n",
       "        text-align: right;\n",
       "    }\n",
       "</style>\n",
       "<table border=\"1\" class=\"dataframe\">\n",
       "  <thead>\n",
       "    <tr style=\"text-align: right;\">\n",
       "      <th>JUL_GT_500</th>\n",
       "      <th>0</th>\n",
       "      <th>1</th>\n",
       "    </tr>\n",
       "    <tr>\n",
       "      <th>FLOODS</th>\n",
       "      <th></th>\n",
       "      <th></th>\n",
       "    </tr>\n",
       "  </thead>\n",
       "  <tbody>\n",
       "    <tr>\n",
       "      <th>0</th>\n",
       "      <td>19</td>\n",
       "      <td>39</td>\n",
       "    </tr>\n",
       "    <tr>\n",
       "      <th>1</th>\n",
       "      <td>3</td>\n",
       "      <td>57</td>\n",
       "    </tr>\n",
       "  </tbody>\n",
       "</table>\n",
       "</div>"
      ],
      "text/plain": [
       "JUL_GT_500   0   1\n",
       "FLOODS            \n",
       "0           19  39\n",
       "1            3  57"
      ]
     },
     "execution_count": 22,
     "metadata": {
      "tags": []
     },
     "output_type": "execute_result"
    }
   ],
   "source": [
    "#190031554 We can similarly do it for july\n",
    "pd.crosstab(df_small[\"FLOODS\"], df_small[\"JUL_GT_500\"])"
   ]
  },
  {
   "cell_type": "code",
   "execution_count": 15,
   "metadata": {
    "colab": {
     "base_uri": "https://localhost:8080/",
     "height": 0
    },
    "id": "z6mZIxvPqTPB",
    "outputId": "8a3e1878-2df5-46ce-84a6-541a44358ff4"
   },
   "outputs": [
    {
     "name": "stdout",
     "output_type": "stream",
     "text": [
      "P(F): 0.5084745762711864\n",
      "P(J): 0.8135593220338984\n",
      "P(F AND J): 0.4830508474576271\n"
     ]
    }
   ],
   "source": [
    "#190031554 We can similarly do it for july\n",
    "P_F = (3 + 57) / (3 + 57 + 19 + 39)\n",
    "P_J = (39 + 57) / (3 + 57 + 19 + 39)\n",
    "P_F_intersect_J = 57 / (3 + 57 + 19 + 39)\n",
    "print(f\"P(F): {P_F}\") \n",
    "print(f\"P(J): {P_J}\")\n",
    "print(f\"P(F AND J): {P_F_intersect_J}\")"
   ]
  },
  {
   "cell_type": "code",
   "execution_count": 12,
   "metadata": {
    "colab": {
     "base_uri": "https://localhost:8080/",
     "height": 0
    },
    "id": "a3F4QqiCqTPC",
    "outputId": "9f9807e8-99ca-441d-910a-5b38c9b3861a"
   },
   "outputs": [
    {
     "name": "stdout",
     "output_type": "stream",
     "text": [
      "P(F|J): 0.59375\n"
     ]
    }
   ],
   "source": [
    "#190031554 Now calculate probailitity of flood \n",
    "#given it rained more than 500 mm in July\n",
    "P_F_J = P_F_intersect_J / P_J\n",
    "print(f\"P(F|J): {P_F_J}\")"
   ]
  },
  {
   "cell_type": "code",
   "execution_count": 13,
   "metadata": {
    "colab": {
     "base_uri": "https://localhost:8080/",
     "height": 0
    },
    "id": "giHvi7kTqTPC",
    "outputId": "ae80c3a7-76b4-4c63-8d3c-1ca72e9ae523"
   },
   "outputs": [
    {
     "name": "stdout",
     "output_type": "stream",
     "text": [
      "P(J|F): 0.9500000000000002\n"
     ]
    }
   ],
   "source": [
    "#190031554 Probability of rain more than 500 mm \n",
    "#in July given it flooded that year (P(B|A))\n",
    "P_J_F = (P_F_J * P_J) / P_F\n",
    "print(f\"P(J|F): {P_J_F}\")"
   ]
  },
  {
   "cell_type": "code",
   "execution_count": null,
   "metadata": {
    "id": "HqsfW-nSqTPD"
   },
   "outputs": [],
   "source": [
    "#****************190031554 LAB 5 END******************"
   ]
  }
 ],
 "metadata": {
  "colab": {
   "name": "190040131_DS_LAB5.ipynb",
   "provenance": []
  },
  "kernelspec": {
   "display_name": "Python 2",
   "language": "python",
   "name": "python2"
  },
  "language_info": {
   "codemirror_mode": {
    "name": "ipython",
    "version": 2
   },
   "file_extension": ".py",
   "mimetype": "text/x-python",
   "name": "python",
   "nbconvert_exporter": "python",
   "pygments_lexer": "ipython2",
   "version": "2.7.16"
  }
 },
 "nbformat": 4,
 "nbformat_minor": 1
}
