{
 "cells": [
  {
   "cell_type": "markdown",
   "metadata": {
    "id": "oZHIJfLWGs56"
   },
   "source": [
    "# G S J UDBHAV\n",
    "# 190031830\n"
   ]
  },
  {
   "cell_type": "markdown",
   "metadata": {
    "id": "LvT6hoEhG3e8"
   },
   "source": [
    "**PRE-LAB**"
   ]
  },
  {
   "cell_type": "markdown",
   "metadata": {
    "id": "7MYaAtucG8LH"
   },
   "source": [
    "1Ans:<br>\n",
    "Population:\n",
    "<br>\n",
    "In statistics, a population is the entire pool from which a statistical sample is drawn. A population may refer to an entire group of people, objects, events, hospital visits, or measurements. A population can thus be said to be an aggregate observation of subjects grouped together by a common feature."
   ]
  },
  {
   "cell_type": "markdown",
   "metadata": {
    "id": "BxND6p_uG7sF"
   },
   "source": [
    "2Ans:<br>\n",
    "Sample:\n",
    "<br>\n",
    "A sample is a set of individuals or objects collected or selected from a statistical population by a defined procedure.The elements of a sample are known as sample points, sampling units or observations."
   ]
  },
  {
   "cell_type": "markdown",
   "metadata": {
    "id": "LgkZkRKkG7fG"
   },
   "source": [
    "3Ans:<br>\n",
    "Parameter:\n",
    "<br>\n",
    "A parameter is a useful component of statistical analysis. It refers to the characteristics that are used to define a given population. It is used to describe a specific characteristic of the entire population."
   ]
  },
  {
   "cell_type": "markdown",
   "metadata": {
    "id": "YjF8hAjcG7Ty"
   },
   "source": [
    "4Ans:\n",
    "<br>\n",
    "Statistics:\n",
    "<br>\n",
    "Statistics is a branch of applied mathematics that involves the collection, description, analysis, and inference of conclusions from quantitative data. The mathematical theories behind statistics rely heavily on differential and integral calculus, linear algebra, and probability theory. Statisticians, people who do statistics, are particularly concerned with determining how to draw reliable conclusions about large groups and general phenomena from the observable characteristics of small samples that represent only a small portion of the large group or limited number of instances of a general phenomenon."
   ]
  },
  {
   "cell_type": "code",
   "execution_count": null,
   "metadata": {
    "id": "kTIlRgvQGedV"
   },
   "outputs": [],
   "source": [
    "import numpy as np\n",
    "import pandas as pd\n",
    "import seaborn as sns\n",
    "import matplotlib.pyplot as plt\n",
    "import datetime"
   ]
  },
  {
   "cell_type": "code",
   "execution_count": null,
   "metadata": {
    "colab": {
     "base_uri": "https://localhost:8080/",
     "height": 296
    },
    "id": "JDAZrM7IGsQk",
    "outputId": "07243c51-ba5d-446b-a13d-5260cd5df171"
   },
   "outputs": [
    {
     "data": {
      "text/html": [
       "<div>\n",
       "<style scoped>\n",
       "    .dataframe tbody tr th:only-of-type {\n",
       "        vertical-align: middle;\n",
       "    }\n",
       "\n",
       "    .dataframe tbody tr th {\n",
       "        vertical-align: top;\n",
       "    }\n",
       "\n",
       "    .dataframe thead th {\n",
       "        text-align: right;\n",
       "    }\n",
       "</style>\n",
       "<table border=\"1\" class=\"dataframe\">\n",
       "  <thead>\n",
       "    <tr style=\"text-align: right;\">\n",
       "      <th></th>\n",
       "      <th>Invoice ID</th>\n",
       "      <th>Branch</th>\n",
       "      <th>City</th>\n",
       "      <th>Customer type</th>\n",
       "      <th>Gender</th>\n",
       "      <th>Product line</th>\n",
       "      <th>Unit price</th>\n",
       "      <th>Quantity</th>\n",
       "      <th>Tax 5%</th>\n",
       "      <th>Total</th>\n",
       "      <th>Date</th>\n",
       "      <th>Time</th>\n",
       "      <th>Payment</th>\n",
       "      <th>cogs</th>\n",
       "      <th>gross margin percentage</th>\n",
       "      <th>gross income</th>\n",
       "      <th>Rating</th>\n",
       "    </tr>\n",
       "  </thead>\n",
       "  <tbody>\n",
       "    <tr>\n",
       "      <th>0</th>\n",
       "      <td>750-67-8428</td>\n",
       "      <td>A</td>\n",
       "      <td>Yangon</td>\n",
       "      <td>Member</td>\n",
       "      <td>Female</td>\n",
       "      <td>Health and beauty</td>\n",
       "      <td>74.69</td>\n",
       "      <td>7</td>\n",
       "      <td>26.1415</td>\n",
       "      <td>548.9715</td>\n",
       "      <td>1/5/2019</td>\n",
       "      <td>13:08</td>\n",
       "      <td>Ewallet</td>\n",
       "      <td>522.83</td>\n",
       "      <td>4.761905</td>\n",
       "      <td>26.1415</td>\n",
       "      <td>9.1</td>\n",
       "    </tr>\n",
       "    <tr>\n",
       "      <th>1</th>\n",
       "      <td>226-31-3081</td>\n",
       "      <td>C</td>\n",
       "      <td>Naypyitaw</td>\n",
       "      <td>Normal</td>\n",
       "      <td>Female</td>\n",
       "      <td>Electronic accessories</td>\n",
       "      <td>15.28</td>\n",
       "      <td>5</td>\n",
       "      <td>3.8200</td>\n",
       "      <td>80.2200</td>\n",
       "      <td>3/8/2019</td>\n",
       "      <td>10:29</td>\n",
       "      <td>Cash</td>\n",
       "      <td>76.40</td>\n",
       "      <td>4.761905</td>\n",
       "      <td>3.8200</td>\n",
       "      <td>9.6</td>\n",
       "    </tr>\n",
       "    <tr>\n",
       "      <th>2</th>\n",
       "      <td>631-41-3108</td>\n",
       "      <td>A</td>\n",
       "      <td>Yangon</td>\n",
       "      <td>Normal</td>\n",
       "      <td>Male</td>\n",
       "      <td>Home and lifestyle</td>\n",
       "      <td>46.33</td>\n",
       "      <td>7</td>\n",
       "      <td>16.2155</td>\n",
       "      <td>340.5255</td>\n",
       "      <td>3/3/2019</td>\n",
       "      <td>13:23</td>\n",
       "      <td>Credit card</td>\n",
       "      <td>324.31</td>\n",
       "      <td>4.761905</td>\n",
       "      <td>16.2155</td>\n",
       "      <td>7.4</td>\n",
       "    </tr>\n",
       "    <tr>\n",
       "      <th>3</th>\n",
       "      <td>123-19-1176</td>\n",
       "      <td>A</td>\n",
       "      <td>Yangon</td>\n",
       "      <td>Member</td>\n",
       "      <td>Male</td>\n",
       "      <td>Health and beauty</td>\n",
       "      <td>58.22</td>\n",
       "      <td>8</td>\n",
       "      <td>23.2880</td>\n",
       "      <td>489.0480</td>\n",
       "      <td>1/27/2019</td>\n",
       "      <td>20:33</td>\n",
       "      <td>Ewallet</td>\n",
       "      <td>465.76</td>\n",
       "      <td>4.761905</td>\n",
       "      <td>23.2880</td>\n",
       "      <td>8.4</td>\n",
       "    </tr>\n",
       "    <tr>\n",
       "      <th>4</th>\n",
       "      <td>373-73-7910</td>\n",
       "      <td>A</td>\n",
       "      <td>Yangon</td>\n",
       "      <td>Normal</td>\n",
       "      <td>Male</td>\n",
       "      <td>Sports and travel</td>\n",
       "      <td>86.31</td>\n",
       "      <td>7</td>\n",
       "      <td>30.2085</td>\n",
       "      <td>634.3785</td>\n",
       "      <td>2/8/2019</td>\n",
       "      <td>10:37</td>\n",
       "      <td>Ewallet</td>\n",
       "      <td>604.17</td>\n",
       "      <td>4.761905</td>\n",
       "      <td>30.2085</td>\n",
       "      <td>5.3</td>\n",
       "    </tr>\n",
       "  </tbody>\n",
       "</table>\n",
       "</div>"
      ],
      "text/plain": [
       "    Invoice ID Branch       City  ... gross margin percentage gross income Rating\n",
       "0  750-67-8428      A     Yangon  ...                4.761905      26.1415    9.1\n",
       "1  226-31-3081      C  Naypyitaw  ...                4.761905       3.8200    9.6\n",
       "2  631-41-3108      A     Yangon  ...                4.761905      16.2155    7.4\n",
       "3  123-19-1176      A     Yangon  ...                4.761905      23.2880    8.4\n",
       "4  373-73-7910      A     Yangon  ...                4.761905      30.2085    5.3\n",
       "\n",
       "[5 rows x 17 columns]"
      ]
     },
     "execution_count": 9,
     "metadata": {
      "tags": []
     },
     "output_type": "execute_result"
    }
   ],
   "source": [
    "df=pd.read_csv(\"supermarket_sales - Sheet1.csv\")\n",
    "df.head()"
   ]
  },
  {
   "cell_type": "code",
   "execution_count": null,
   "metadata": {
    "colab": {
     "base_uri": "https://localhost:8080/"
    },
    "id": "grxQoIgCXT2z",
    "outputId": "fca7645a-fd72-48b8-a111-51792494e4f6"
   },
   "outputs": [
    {
     "data": {
      "text/plain": [
       "0   2019-01-05\n",
       "1   2019-03-08\n",
       "2   2019-03-03\n",
       "3   2019-01-27\n",
       "4   2019-02-08\n",
       "Name: Date, dtype: datetime64[ns]"
      ]
     },
     "execution_count": 14,
     "metadata": {
      "tags": []
     },
     "output_type": "execute_result"
    }
   ],
   "source": [
    "df['Date']=pd.to_datetime(df['Date'])\n",
    "df['Date'].head()"
   ]
  },
  {
   "cell_type": "code",
   "execution_count": null,
   "metadata": {
    "colab": {
     "base_uri": "https://localhost:8080/",
     "height": 462
    },
    "id": "_HvLbwaUYE5S",
    "outputId": "dfdb191b-99d6-4dc9-ced8-aa6ccdada140"
   },
   "outputs": [
    {
     "data": {
      "text/html": [
       "<div>\n",
       "<style scoped>\n",
       "    .dataframe tbody tr th:only-of-type {\n",
       "        vertical-align: middle;\n",
       "    }\n",
       "\n",
       "    .dataframe tbody tr th {\n",
       "        vertical-align: top;\n",
       "    }\n",
       "\n",
       "    .dataframe thead th {\n",
       "        text-align: right;\n",
       "    }\n",
       "</style>\n",
       "<table border=\"1\" class=\"dataframe\">\n",
       "  <thead>\n",
       "    <tr style=\"text-align: right;\">\n",
       "      <th></th>\n",
       "      <th>Unit price</th>\n",
       "      <th>Quantity</th>\n",
       "      <th>Tax 5%</th>\n",
       "      <th>Total</th>\n",
       "      <th>cogs</th>\n",
       "      <th>gross margin percentage</th>\n",
       "      <th>gross income</th>\n",
       "      <th>Rating</th>\n",
       "    </tr>\n",
       "    <tr>\n",
       "      <th>Date</th>\n",
       "      <th></th>\n",
       "      <th></th>\n",
       "      <th></th>\n",
       "      <th></th>\n",
       "      <th></th>\n",
       "      <th></th>\n",
       "      <th></th>\n",
       "      <th></th>\n",
       "    </tr>\n",
       "  </thead>\n",
       "  <tbody>\n",
       "    <tr>\n",
       "      <th>2019-01-06</th>\n",
       "      <td>62.650</td>\n",
       "      <td>6.0</td>\n",
       "      <td>12.91800</td>\n",
       "      <td>271.27800</td>\n",
       "      <td>258.360</td>\n",
       "      <td>4.761905</td>\n",
       "      <td>12.91800</td>\n",
       "      <td>7.00</td>\n",
       "    </tr>\n",
       "    <tr>\n",
       "      <th>2019-01-13</th>\n",
       "      <td>50.490</td>\n",
       "      <td>6.0</td>\n",
       "      <td>12.86950</td>\n",
       "      <td>270.25950</td>\n",
       "      <td>257.390</td>\n",
       "      <td>4.761905</td>\n",
       "      <td>12.86950</td>\n",
       "      <td>6.70</td>\n",
       "    </tr>\n",
       "    <tr>\n",
       "      <th>2019-01-20</th>\n",
       "      <td>60.605</td>\n",
       "      <td>6.0</td>\n",
       "      <td>13.33725</td>\n",
       "      <td>280.08225</td>\n",
       "      <td>266.745</td>\n",
       "      <td>4.761905</td>\n",
       "      <td>13.33725</td>\n",
       "      <td>7.25</td>\n",
       "    </tr>\n",
       "    <tr>\n",
       "      <th>2019-01-27</th>\n",
       "      <td>55.810</td>\n",
       "      <td>5.0</td>\n",
       "      <td>12.85800</td>\n",
       "      <td>270.01800</td>\n",
       "      <td>257.160</td>\n",
       "      <td>4.761905</td>\n",
       "      <td>12.85800</td>\n",
       "      <td>7.20</td>\n",
       "    </tr>\n",
       "    <tr>\n",
       "      <th>2019-02-03</th>\n",
       "      <td>51.520</td>\n",
       "      <td>6.0</td>\n",
       "      <td>12.62400</td>\n",
       "      <td>265.10400</td>\n",
       "      <td>252.480</td>\n",
       "      <td>4.761905</td>\n",
       "      <td>12.62400</td>\n",
       "      <td>6.60</td>\n",
       "    </tr>\n",
       "    <tr>\n",
       "      <th>2019-02-10</th>\n",
       "      <td>45.995</td>\n",
       "      <td>6.0</td>\n",
       "      <td>11.13375</td>\n",
       "      <td>233.80875</td>\n",
       "      <td>222.675</td>\n",
       "      <td>4.761905</td>\n",
       "      <td>11.13375</td>\n",
       "      <td>7.35</td>\n",
       "    </tr>\n",
       "    <tr>\n",
       "      <th>2019-02-17</th>\n",
       "      <td>64.610</td>\n",
       "      <td>5.0</td>\n",
       "      <td>12.76400</td>\n",
       "      <td>268.04400</td>\n",
       "      <td>255.280</td>\n",
       "      <td>4.761905</td>\n",
       "      <td>12.76400</td>\n",
       "      <td>7.05</td>\n",
       "    </tr>\n",
       "    <tr>\n",
       "      <th>2019-02-24</th>\n",
       "      <td>56.735</td>\n",
       "      <td>5.0</td>\n",
       "      <td>11.31600</td>\n",
       "      <td>237.63600</td>\n",
       "      <td>226.320</td>\n",
       "      <td>4.761905</td>\n",
       "      <td>11.31600</td>\n",
       "      <td>7.20</td>\n",
       "    </tr>\n",
       "    <tr>\n",
       "      <th>2019-03-03</th>\n",
       "      <td>60.300</td>\n",
       "      <td>5.0</td>\n",
       "      <td>12.57000</td>\n",
       "      <td>263.97000</td>\n",
       "      <td>251.400</td>\n",
       "      <td>4.761905</td>\n",
       "      <td>12.57000</td>\n",
       "      <td>6.30</td>\n",
       "    </tr>\n",
       "    <tr>\n",
       "      <th>2019-03-10</th>\n",
       "      <td>52.060</td>\n",
       "      <td>5.5</td>\n",
       "      <td>11.52625</td>\n",
       "      <td>242.05125</td>\n",
       "      <td>230.525</td>\n",
       "      <td>4.761905</td>\n",
       "      <td>11.52625</td>\n",
       "      <td>7.25</td>\n",
       "    </tr>\n",
       "    <tr>\n",
       "      <th>2019-03-17</th>\n",
       "      <td>47.220</td>\n",
       "      <td>6.0</td>\n",
       "      <td>10.88325</td>\n",
       "      <td>228.54825</td>\n",
       "      <td>217.665</td>\n",
       "      <td>4.761905</td>\n",
       "      <td>10.88325</td>\n",
       "      <td>6.45</td>\n",
       "    </tr>\n",
       "    <tr>\n",
       "      <th>2019-03-24</th>\n",
       "      <td>56.925</td>\n",
       "      <td>5.0</td>\n",
       "      <td>13.68400</td>\n",
       "      <td>287.36400</td>\n",
       "      <td>273.680</td>\n",
       "      <td>4.761905</td>\n",
       "      <td>13.68400</td>\n",
       "      <td>6.90</td>\n",
       "    </tr>\n",
       "    <tr>\n",
       "      <th>2019-03-31</th>\n",
       "      <td>52.380</td>\n",
       "      <td>5.0</td>\n",
       "      <td>10.32600</td>\n",
       "      <td>216.84600</td>\n",
       "      <td>206.520</td>\n",
       "      <td>4.761905</td>\n",
       "      <td>10.32600</td>\n",
       "      <td>6.90</td>\n",
       "    </tr>\n",
       "  </tbody>\n",
       "</table>\n",
       "</div>"
      ],
      "text/plain": [
       "            Unit price  Quantity  ...  gross income  Rating\n",
       "Date                              ...                      \n",
       "2019-01-06      62.650       6.0  ...      12.91800    7.00\n",
       "2019-01-13      50.490       6.0  ...      12.86950    6.70\n",
       "2019-01-20      60.605       6.0  ...      13.33725    7.25\n",
       "2019-01-27      55.810       5.0  ...      12.85800    7.20\n",
       "2019-02-03      51.520       6.0  ...      12.62400    6.60\n",
       "2019-02-10      45.995       6.0  ...      11.13375    7.35\n",
       "2019-02-17      64.610       5.0  ...      12.76400    7.05\n",
       "2019-02-24      56.735       5.0  ...      11.31600    7.20\n",
       "2019-03-03      60.300       5.0  ...      12.57000    6.30\n",
       "2019-03-10      52.060       5.5  ...      11.52625    7.25\n",
       "2019-03-17      47.220       6.0  ...      10.88325    6.45\n",
       "2019-03-24      56.925       5.0  ...      13.68400    6.90\n",
       "2019-03-31      52.380       5.0  ...      10.32600    6.90\n",
       "\n",
       "[13 rows x 8 columns]"
      ]
     },
     "execution_count": 22,
     "metadata": {
      "tags": []
     },
     "output_type": "execute_result"
    }
   ],
   "source": [
    "median_df=df.groupby(pd.Grouper(key='Date', freq='1W')).median()\n",
    "median_df"
   ]
  },
  {
   "cell_type": "code",
   "execution_count": null,
   "metadata": {
    "colab": {
     "base_uri": "https://localhost:8080/",
     "height": 106
    },
    "id": "QbNuBJjHaATC",
    "outputId": "7890e451-40b9-43cc-9c3c-3655cc9399d4"
   },
   "outputs": [
    {
     "data": {
      "text/html": [
       "<div>\n",
       "<style scoped>\n",
       "    .dataframe tbody tr th:only-of-type {\n",
       "        vertical-align: middle;\n",
       "    }\n",
       "\n",
       "    .dataframe tbody tr th {\n",
       "        vertical-align: top;\n",
       "    }\n",
       "\n",
       "    .dataframe thead th {\n",
       "        text-align: right;\n",
       "    }\n",
       "</style>\n",
       "<table border=\"1\" class=\"dataframe\">\n",
       "  <thead>\n",
       "    <tr style=\"text-align: right;\">\n",
       "      <th></th>\n",
       "      <th>Unit price</th>\n",
       "      <th>Quantity</th>\n",
       "      <th>Tax 5%</th>\n",
       "      <th>Total</th>\n",
       "      <th>cogs</th>\n",
       "      <th>gross margin percentage</th>\n",
       "      <th>gross income</th>\n",
       "      <th>Rating</th>\n",
       "    </tr>\n",
       "    <tr>\n",
       "      <th>Date</th>\n",
       "      <th></th>\n",
       "      <th></th>\n",
       "      <th></th>\n",
       "      <th></th>\n",
       "      <th></th>\n",
       "      <th></th>\n",
       "      <th></th>\n",
       "      <th></th>\n",
       "    </tr>\n",
       "  </thead>\n",
       "  <tbody>\n",
       "    <tr>\n",
       "      <th>2019-03-31</th>\n",
       "      <td>52.38</td>\n",
       "      <td>5.0</td>\n",
       "      <td>10.326</td>\n",
       "      <td>216.846</td>\n",
       "      <td>206.52</td>\n",
       "      <td>4.761905</td>\n",
       "      <td>10.326</td>\n",
       "      <td>6.9</td>\n",
       "    </tr>\n",
       "  </tbody>\n",
       "</table>\n",
       "</div>"
      ],
      "text/plain": [
       "            Unit price  Quantity  ...  gross income  Rating\n",
       "Date                              ...                      \n",
       "2019-03-31       52.38       5.0  ...        10.326     6.9\n",
       "\n",
       "[1 rows x 8 columns]"
      ]
     },
     "execution_count": 23,
     "metadata": {
      "tags": []
     },
     "output_type": "execute_result"
    }
   ],
   "source": [
    "median_df.tail(1)"
   ]
  },
  {
   "cell_type": "code",
   "execution_count": null,
   "metadata": {
    "colab": {
     "base_uri": "https://localhost:8080/",
     "height": 391
    },
    "id": "agwHChmnZrlg",
    "outputId": "c7b1b5b0-ddf9-4b81-f61a-5f888e96bfe6"
   },
   "outputs": [
    {
     "data": {
      "text/plain": [
       "<matplotlib.axes._subplots.AxesSubplot at 0x7f864678c4d0>"
      ]
     },
     "execution_count": 25,
     "metadata": {
      "tags": []
     },
     "output_type": "execute_result"
    },
    {
     "data": {
      "image/png": "[encoded data removed]",
      "text/plain": [
       "<Figure size 432x288 with 1 Axes>"
      ]
     },
     "metadata": {
      "needs_background": "light",
      "tags": []
     },
     "output_type": "display_data"
    }
   ],
   "source": [
    "week_df=df.groupby(pd.Grouper(key='Date', freq='1W')).sum()\n",
    "week_df['Total'].plot.bar(figsize)"
   ]
  },
  {
   "cell_type": "code",
   "execution_count": null,
   "metadata": {
    "colab": {
     "base_uri": "https://localhost:8080/",
     "height": 500
    },
    "id": "S9o7ujVGaZS4",
    "outputId": "bc9adbc4-83b6-47ef-8911-a4f982522ca1"
   },
   "outputs": [
    {
     "data": {
      "text/plain": [
       "<matplotlib.axes._subplots.AxesSubplot at 0x7f8645fe2710>"
      ]
     },
     "execution_count": 28,
     "metadata": {
      "tags": []
     },
     "output_type": "execute_result"
    },
    {
     "data": {
      "image/png": "[encoded data removed]",
      "text/plain": [
       "<Figure size 720x432 with 1 Axes>"
      ]
     },
     "metadata": {
      "needs_background": "light",
      "tags": []
     },
     "output_type": "display_data"
    }
   ],
   "source": [
    "week_df=df.groupby(pd.Grouper(key='Date', freq='1D')).sum()\n",
    "week_df['Total'].plot.bar(figsize=(10,6))"
   ]
  },
  {
   "cell_type": "code",
   "execution_count": null,
   "metadata": {
    "colab": {
     "base_uri": "https://localhost:8080/",
     "height": 392
    },
    "id": "y-AE4INMaY0Y",
    "outputId": "c64d25c7-2110-46a7-b290-8703eb9fbee5"
   },
   "outputs": [
    {
     "data": {
      "text/plain": [
       "<matplotlib.axes._subplots.AxesSubplot at 0x7f86467593d0>"
      ]
     },
     "execution_count": 27,
     "metadata": {
      "tags": []
     },
     "output_type": "execute_result"
    },
    {
     "data": {
      "image/png": "[encoded data removed]",
      "text/plain": [
       "<Figure size 432x288 with 1 Axes>"
      ]
     },
     "metadata": {
      "needs_background": "light",
      "tags": []
     },
     "output_type": "display_data"
    }
   ],
   "source": [
    "week_df=df.groupby(pd.Grouper(key='Date', freq='1M')).sum()\n",
    "week_df['Total'].plot.bar()"
   ]
  },
  {
   "cell_type": "code",
   "execution_count": null,
   "metadata": {
    "colab": {
     "base_uri": "https://localhost:8080/"
    },
    "id": "mQZoRMBqNLZY",
    "outputId": "3b195f31-9b76-47af-d509-27befeaf9d27"
   },
   "outputs": [
    {
     "data": {
      "text/plain": [
       "count    1000.000000\n",
       "mean      322.966749\n",
       "std       245.885335\n",
       "min        10.678500\n",
       "25%       124.422375\n",
       "50%       253.848000\n",
       "75%       471.350250\n",
       "max      1042.650000\n",
       "Name: Total, dtype: float64"
      ]
     },
     "execution_count": 3,
     "metadata": {
      "tags": []
     },
     "output_type": "execute_result"
    }
   ],
   "source": [
    "df['Total'].describe()"
   ]
  },
  {
   "cell_type": "code",
   "execution_count": null,
   "metadata": {
    "colab": {
     "base_uri": "https://localhost:8080/",
     "height": 431
    },
    "id": "IV-2TApNNb-e",
    "outputId": "841e4e36-98a3-4128-ade8-c121177d20d0"
   },
   "outputs": [
    {
     "data": {
      "text/html": [
       "<div>\n",
       "<style scoped>\n",
       "    .dataframe tbody tr th:only-of-type {\n",
       "        vertical-align: middle;\n",
       "    }\n",
       "\n",
       "    .dataframe tbody tr th {\n",
       "        vertical-align: top;\n",
       "    }\n",
       "\n",
       "    .dataframe thead th {\n",
       "        text-align: right;\n",
       "    }\n",
       "</style>\n",
       "<table border=\"1\" class=\"dataframe\">\n",
       "  <thead>\n",
       "    <tr style=\"text-align: right;\">\n",
       "      <th></th>\n",
       "      <th>Unit price</th>\n",
       "      <th>Quantity</th>\n",
       "      <th>Tax 5%</th>\n",
       "      <th>Total</th>\n",
       "      <th>cogs</th>\n",
       "      <th>gross margin percentage</th>\n",
       "      <th>gross income</th>\n",
       "      <th>Rating</th>\n",
       "    </tr>\n",
       "    <tr>\n",
       "      <th>Date</th>\n",
       "      <th></th>\n",
       "      <th></th>\n",
       "      <th></th>\n",
       "      <th></th>\n",
       "      <th></th>\n",
       "      <th></th>\n",
       "      <th></th>\n",
       "      <th></th>\n",
       "    </tr>\n",
       "  </thead>\n",
       "  <tbody>\n",
       "    <tr>\n",
       "      <th>1/1/2019</th>\n",
       "      <td>659.95</td>\n",
       "      <td>81</td>\n",
       "      <td>225.9610</td>\n",
       "      <td>4745.1810</td>\n",
       "      <td>4519.22</td>\n",
       "      <td>57.142857</td>\n",
       "      <td>225.9610</td>\n",
       "      <td>79.0</td>\n",
       "    </tr>\n",
       "    <tr>\n",
       "      <th>1/10/2019</th>\n",
       "      <td>522.46</td>\n",
       "      <td>55</td>\n",
       "      <td>169.5690</td>\n",
       "      <td>3560.9490</td>\n",
       "      <td>3391.38</td>\n",
       "      <td>42.857143</td>\n",
       "      <td>169.5690</td>\n",
       "      <td>54.6</td>\n",
       "    </tr>\n",
       "    <tr>\n",
       "      <th>1/11/2019</th>\n",
       "      <td>479.70</td>\n",
       "      <td>40</td>\n",
       "      <td>100.7125</td>\n",
       "      <td>2114.9625</td>\n",
       "      <td>2014.25</td>\n",
       "      <td>38.095238</td>\n",
       "      <td>100.7125</td>\n",
       "      <td>56.8</td>\n",
       "    </tr>\n",
       "    <tr>\n",
       "      <th>1/12/2019</th>\n",
       "      <td>625.90</td>\n",
       "      <td>80</td>\n",
       "      <td>246.8935</td>\n",
       "      <td>5184.7635</td>\n",
       "      <td>4937.87</td>\n",
       "      <td>52.380952</td>\n",
       "      <td>246.8935</td>\n",
       "      <td>75.3</td>\n",
       "    </tr>\n",
       "    <tr>\n",
       "      <th>1/13/2019</th>\n",
       "      <td>531.50</td>\n",
       "      <td>50</td>\n",
       "      <td>116.7240</td>\n",
       "      <td>2451.2040</td>\n",
       "      <td>2334.48</td>\n",
       "      <td>47.619048</td>\n",
       "      <td>116.7240</td>\n",
       "      <td>67.2</td>\n",
       "    </tr>\n",
       "    <tr>\n",
       "      <th>...</th>\n",
       "      <td>...</td>\n",
       "      <td>...</td>\n",
       "      <td>...</td>\n",
       "      <td>...</td>\n",
       "      <td>...</td>\n",
       "      <td>...</td>\n",
       "      <td>...</td>\n",
       "      <td>...</td>\n",
       "    </tr>\n",
       "    <tr>\n",
       "      <th>3/5/2019</th>\n",
       "      <td>990.01</td>\n",
       "      <td>103</td>\n",
       "      <td>296.7085</td>\n",
       "      <td>6230.8785</td>\n",
       "      <td>5934.17</td>\n",
       "      <td>80.952381</td>\n",
       "      <td>296.7085</td>\n",
       "      <td>114.3</td>\n",
       "    </tr>\n",
       "    <tr>\n",
       "      <th>3/6/2019</th>\n",
       "      <td>563.17</td>\n",
       "      <td>63</td>\n",
       "      <td>147.2665</td>\n",
       "      <td>3092.5965</td>\n",
       "      <td>2945.33</td>\n",
       "      <td>52.380952</td>\n",
       "      <td>147.2665</td>\n",
       "      <td>79.3</td>\n",
       "    </tr>\n",
       "    <tr>\n",
       "      <th>3/7/2019</th>\n",
       "      <td>430.76</td>\n",
       "      <td>37</td>\n",
       "      <td>68.4885</td>\n",
       "      <td>1438.2585</td>\n",
       "      <td>1369.77</td>\n",
       "      <td>42.857143</td>\n",
       "      <td>68.4885</td>\n",
       "      <td>62.9</td>\n",
       "    </tr>\n",
       "    <tr>\n",
       "      <th>3/8/2019</th>\n",
       "      <td>541.90</td>\n",
       "      <td>60</td>\n",
       "      <td>148.8280</td>\n",
       "      <td>3125.3880</td>\n",
       "      <td>2976.56</td>\n",
       "      <td>52.380952</td>\n",
       "      <td>148.8280</td>\n",
       "      <td>83.8</td>\n",
       "    </tr>\n",
       "    <tr>\n",
       "      <th>3/9/2019</th>\n",
       "      <td>1077.54</td>\n",
       "      <td>99</td>\n",
       "      <td>355.9070</td>\n",
       "      <td>7474.0470</td>\n",
       "      <td>7118.14</td>\n",
       "      <td>76.190476</td>\n",
       "      <td>355.9070</td>\n",
       "      <td>116.5</td>\n",
       "    </tr>\n",
       "  </tbody>\n",
       "</table>\n",
       "<p>89 rows × 8 columns</p>\n",
       "</div>"
      ],
      "text/plain": [
       "           Unit price  Quantity  ...  gross income  Rating\n",
       "Date                             ...                      \n",
       "1/1/2019       659.95        81  ...      225.9610    79.0\n",
       "1/10/2019      522.46        55  ...      169.5690    54.6\n",
       "1/11/2019      479.70        40  ...      100.7125    56.8\n",
       "1/12/2019      625.90        80  ...      246.8935    75.3\n",
       "1/13/2019      531.50        50  ...      116.7240    67.2\n",
       "...               ...       ...  ...           ...     ...\n",
       "3/5/2019       990.01       103  ...      296.7085   114.3\n",
       "3/6/2019       563.17        63  ...      147.2665    79.3\n",
       "3/7/2019       430.76        37  ...       68.4885    62.9\n",
       "3/8/2019       541.90        60  ...      148.8280    83.8\n",
       "3/9/2019      1077.54        99  ...      355.9070   116.5\n",
       "\n",
       "[89 rows x 8 columns]"
      ]
     },
     "execution_count": 4,
     "metadata": {
      "tags": []
     },
     "output_type": "execute_result"
    }
   ],
   "source": [
    "datedf=df.groupby('Date')\n",
    "datedf.sum()"
   ]
  },
  {
   "cell_type": "code",
   "execution_count": null,
   "metadata": {
    "colab": {
     "base_uri": "https://localhost:8080/",
     "height": 442
    },
    "id": "uWTS-NilN_Tb",
    "outputId": "517f164d-a835-47b9-e423-395d03c4e753"
   },
   "outputs": [
    {
     "name": "stderr",
     "output_type": "stream",
     "text": [
      "/usr/local/lib/python3.7/dist-packages/seaborn/distributions.py:2557: FutureWarning: `distplot` is a deprecated function and will be removed in a future version. Please adapt your code to use either `displot` (a figure-level function with similar flexibility) or `histplot` (an axes-level function for histograms).\n",
      "  warnings.warn(msg, FutureWarning)\n"
     ]
    },
    {
     "data": {
      "image/png": "[encoded data removed]",
      "text/plain": [
       "<Figure size 720x432 with 1 Axes>"
      ]
     },
     "metadata": {
      "needs_background": "light",
      "tags": []
     },
     "output_type": "display_data"
    }
   ],
   "source": [
    "mean=df['Total'].mean();\n",
    "median=df['Total'].median();\n",
    "mode=df['Total'].mode();\n",
    "fig, ax = plt.subplots(figsize=(10,6));\n",
    "sns.distplot(df['Total']);\n",
    "plt.axvline(mean,color='green',label='Mean'); \n",
    "plt.axvline(median,color='blue',label='Median');\n",
    "plt.axvline(mode[0],color='red',label='Mode1')\n",
    "plt.axvline(mode[1],color='red',label='Mode2')\n",
    "plt.legend();"
   ]
  },
  {
   "cell_type": "code",
   "execution_count": null,
   "metadata": {
    "colab": {
     "base_uri": "https://localhost:8080/",
     "height": 338
    },
    "id": "O80HAZJPUfIs",
    "outputId": "4d6c5ad4-215a-48dc-90f6-33ca83338bce"
   },
   "outputs": [
    {
     "data": {
      "text/plain": [
       "<matplotlib.axes._subplots.AxesSubplot at 0x7f8652cef250>"
      ]
     },
     "execution_count": 11,
     "metadata": {
      "tags": []
     },
     "output_type": "execute_result"
    },
    {
     "data": {
      "image/png": "[encoded data removed]",
      "text/plain": [
       "<Figure size 432x288 with 1 Axes>"
      ]
     },
     "metadata": {
      "needs_background": "light",
      "tags": []
     },
     "output_type": "display_data"
    }
   ],
   "source": [
    "datedf.sum()[\"Total\"].plot.bar()"
   ]
  },
  {
   "cell_type": "code",
   "execution_count": null,
   "metadata": {
    "id": "VvyKkH7VUpR5"
   },
   "outputs": [],
   "source": []
  }
 ],
 "metadata": {
  "colab": {
   "collapsed_sections": [],
   "name": "190030385-DS-Practical-10.ipynb",
   "provenance": []
  },
  "kernelspec": {
   "display_name": "Python 3",
   "language": "python",
   "name": "python3"
  },
  "language_info": {
   "codemirror_mode": {
    "name": "ipython",
    "version": 3
   },
   "file_extension": ".py",
   "mimetype": "text/x-python",
   "name": "python",
   "nbconvert_exporter": "python",
   "pygments_lexer": "ipython3",
   "version": "3.8.5"
  }
 },
 "nbformat": 4,
 "nbformat_minor": 1
}
